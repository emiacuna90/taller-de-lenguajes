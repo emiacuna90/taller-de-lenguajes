{
 "cells": [
  {
   "cell_type": "code",
   "execution_count": 14,
   "id": "2a12ebc7-fdd2-4b91-8ab8-39f24e33a91f",
   "metadata": {},
   "outputs": [],
   "source": [
    "import sys\n",
    "import os\n",
    "\n",
    "# Agrega la ruta del directorio principal del proyecto a la ruta de búsqueda de Python\n",
    "# Esto permite importar módulos de la carpeta 'src'\n",
    "proyecto_dir = os.path.abspath(os.path.join(os.getcwd(), '..'))\n",
    "if proyecto_dir not in sys.path:\n",
    "    sys.path.append(proyecto_dir)"
   ]
  },
  {
   "cell_type": "code",
   "execution_count": 15,
   "id": "0e89d814-06a2-48d7-a5cb-faa9a113e589",
   "metadata": {},
   "outputs": [
    {
     "name": "stdout",
     "output_type": "stream",
     "text": [
      "Resultados de la Feria de Ciencias - Sistema de Evaluación\n",
      "============================================================\n",
      "\n",
      "Ronda 1\n",
      "Mejor Equipo de la Ronda: EquipoA (6 puntos)\n",
      "\n",
      "Resultados de la Ronda\n",
      "Equipo     Inno  Pres  Err   MER   Total\n",
      "----------------------------------------\n",
      "EquipoA    6     1     1     1     6    \n",
      "EquipoC    3     2     1     0     4    \n",
      "EquipoE    3     1     0     0     4    \n",
      "EquipoB    3     0     0     0     3    \n",
      "EquipoD    0     1     0     0     1    \n",
      "\n",
      "Ronda 2\n",
      "Mejor Equipo de la Ronda: EquipoD (6 puntos)\n",
      "\n",
      "Resultados de la Ronda\n",
      "Equipo     Inno  Pres  Err   MER   Total\n",
      "----------------------------------------\n",
      "EquipoD    6     1     1     1     6    \n",
      "EquipoB    6     0     1     0     5    \n",
      "EquipoC    3     1     0     0     4    \n",
      "EquipoA    0     2     0     0     2    \n",
      "EquipoE    0     1     0     0     1    \n",
      "\n",
      "Ronda 3\n",
      "Mejor Equipo de la Ronda: EquipoA (11 puntos)\n",
      "\n",
      "Resultados de la Ronda\n",
      "Equipo     Inno  Pres  Err   MER   Total\n",
      "----------------------------------------\n",
      "EquipoA    9     2     0     1     11   \n",
      "EquipoE    6     2     0     0     8    \n",
      "EquipoC    6     0     0     0     6    \n",
      "EquipoD    3     3     1     0     5    \n",
      "EquipoB    3     1     1     0     3    \n",
      "\n",
      "Ronda 4\n",
      "Mejor Equipo de la Ronda: EquipoC (10 puntos)\n",
      "\n",
      "Resultados de la Ronda\n",
      "Equipo     Inno  Pres  Err   MER   Total\n",
      "----------------------------------------\n",
      "EquipoC    9     1     0     1     10   \n",
      "EquipoB    6     2     0     0     8    \n",
      "EquipoE    6     0     0     0     6    \n",
      "EquipoA    3     3     1     0     5    \n",
      "EquipoD    0     2     1     0     1    \n",
      "\n",
      "Ronda 5\n",
      "Mejor Equipo de la Ronda: EquipoD (10 puntos)\n",
      "\n",
      "Resultados de la Ronda\n",
      "Equipo     Inno  Pres  Err   MER   Total\n",
      "----------------------------------------\n",
      "EquipoD    9     1     0     1     10   \n",
      "EquipoA    6     2     0     0     8    \n",
      "EquipoE    6     3     1     0     8    \n",
      "EquipoB    3     3     1     0     5    \n",
      "EquipoC    0     2     0     0     2    \n"
     ]
    }
   ],
   "source": [
    "from src.data import evaluaciones\n",
    "from src.utils import procesar_ronda, mostrar_tabla\n",
    "acumulados = {}\n",
    "\n",
    "print(\"Resultados de la Feria de Ciencias - Sistema de Evaluación\")\n",
    "print(\"=\" * 60)\n",
    "\n",
    "# Procesa cada ronda\n",
    "for i, ronda in enumerate(evaluaciones, start=1):\n",
    "    print(f\"\\nRonda {i}\")\n",
    "    mejor_equipo, puntos, stats_ronda = procesar_ronda(ronda, acumulados)\n",
    "        \n",
    "    print(f\"Mejor Equipo de la Ronda: {mejor_equipo} ({puntos} puntos)\\n\")\n",
    "    mostrar_tabla(stats_ronda, titulo=\"Resultados de la Ronda\")\n"
   ]
  },
  {
   "cell_type": "code",
   "execution_count": 16,
   "id": "38386d65-d8f8-4d5b-b759-ea008cd3ddb3",
   "metadata": {},
   "outputs": [
    {
     "name": "stdout",
     "output_type": "stream",
     "text": [
      "\n",
      "Resultados Finales\n",
      "Equipos Ganadores: EquipoA (32 puntos)\n",
      "\n",
      "Tabla Final de Resultados\n",
      "Equipo     Inno  Pres  Err   MER   Total\n",
      "----------------------------------------\n",
      "EquipoA    24    10    2     2     32   \n",
      "EquipoE    21    7     1     0     27   \n",
      "EquipoC    21    6     1     1     26   \n",
      "EquipoB    21    6     3     0     24   \n",
      "EquipoD    18    8     3     2     23   \n"
     ]
    }
   ],
   "source": [
    "# Resultados finales\n",
    "print(\"\\nResultados Finales\")\n",
    "max_puntos = max(stats[\"puntos\"] for stats in acumulados.values())\n",
    "ganadores_nombres = [equipo for equipo, _ in filter(lambda item: item[1][\"puntos\"] == max_puntos, acumulados.items())]\n",
    "print(f\"Equipos Ganadores: {', '.join(ganadores_nombres)} ({max_puntos} puntos)\\n\")\n",
    "mostrar_tabla(acumulados, titulo=\"Tabla Final de Resultados\")"
   ]
  },
  {
   "cell_type": "code",
   "execution_count": null,
   "id": "3724ed3c-9779-4196-898d-f49a917ff8e1",
   "metadata": {},
   "outputs": [],
   "source": []
  }
 ],
 "metadata": {
  "kernelspec": {
   "name": "conda-base-py"
  },
  "language_info": {
   "codemirror_mode": {
    "name": "ipython",
    "version": 3
   },
   "file_extension": ".py",
   "mimetype": "text/x-python",
   "name": "python",
   "nbconvert_exporter": "python",
   "pygments_lexer": "ipython3",
   "version": "3.13.5"
  }
 },
 "nbformat": 4,
 "nbformat_minor": 5
}
